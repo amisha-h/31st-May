{
  "nbformat": 4,
  "nbformat_minor": 0,
  "metadata": {
    "colab": {
      "provenance": [],
      "authorship_tag": "ABX9TyOR0N6OYlrdn8orOleNWA6f",
      "include_colab_link": true
    },
    "kernelspec": {
      "name": "python3",
      "display_name": "Python 3"
    },
    "language_info": {
      "name": "python"
    }
  },
  "cells": [
    {
      "cell_type": "markdown",
      "metadata": {
        "id": "view-in-github",
        "colab_type": "text"
      },
      "source": [
        "<a href=\"https://colab.research.google.com/github/amisha-h/31st-May/blob/main/Linux_Assignment.ipynb\" target=\"_parent\"><img src=\"https://colab.research.google.com/assets/colab-badge.svg\" alt=\"Open In Colab\"/></a>"
      ]
    },
    {
      "cell_type": "markdown",
      "source": [
        "**MODULE 3 -Linux - Assignment**"
      ],
      "metadata": {
        "id": "C1m4mV3hO5-a"
      }
    },
    {
      "cell_type": "markdown",
      "source": [
        "\n",
        "1. What is Linux?\n",
        "- Linux is an open source operating system which means anyone can view, modify the code. It is based on Unix. Linux is also free to use and customizable.\n",
        "\n"
      ],
      "metadata": {
        "id": "HxKQNWftNAoh"
      }
    },
    {
      "cell_type": "markdown",
      "source": [
        "\n",
        "2. What is the difference between hard link and soft link?\n",
        "- A hard link is a basically the same file as anothere sharing same inode number, it is a direct refernce to the same data. If the original file is deleted the hard link is not affected.\n",
        "- Whereas a soft link is a shortcut to the original file. It stores the path to the original file. Also, if the original file is deleted the soft link becomes useless.\n",
        "\n"
      ],
      "metadata": {
        "id": "rzYWQ2RuO7Fv"
      }
    },
    {
      "cell_type": "markdown",
      "source": [
        "\n",
        "3. What is a Kernel in Linux?\n",
        "- Kernel  is like the bridge between a hardware and software. It manages everything happening  inside the system such as-\n",
        "   - it runs, stops and switches between processes.\n",
        "   - allocates RAM.\n",
        "   - handles rw operations and who has access to what.\n",
        "\n",
        "\n"
      ],
      "metadata": {
        "id": "3EDqz01mQr1U"
      }
    },
    {
      "cell_type": "markdown",
      "source": [
        "\n",
        "4. How do you create a user account?\n",
        "- To create a user account we use the command sudo add user following the name of the user.\n",
        "   - For example:\n",
        "```\n",
        "sudo adduser amisha23\n",
        "```\n",
        "This creates a user and sets up a home directory.\n",
        "\n",
        "\n",
        "\n",
        "\n"
      ],
      "metadata": {
        "id": "JdrhRxJRSlss"
      }
    },
    {
      "cell_type": "markdown",
      "source": [
        "  5. What is the grep command used for in Linux?\n",
        "  - The 'grep' command is used to search specific text in files. If you want to find a certain \"word\" in a file you have to  just type `grep \"word\" filename` in the command line and it will display all lines in that file containing it."
      ],
      "metadata": {
        "id": "5g4UEIyfTq0Z"
      }
    },
    {
      "cell_type": "markdown",
      "source": [
        "6. Step 1:  Create user p1\n",
        "- `sudo adduser p1`\n",
        "\n",
        "   Step 2: He should be part of 3 groups g1, g2, g3.\n",
        "-`sudo usermod -aG g1 , g2 , g3 p1`   \n",
        "\n",
        "  Step 3: whenever he creates a file automatically, in the group section of file, grp g1 should come.\n",
        "- `sudo usermod -g g1 p1`   "
      ],
      "metadata": {
        "id": "-Gr8q4GyVlkC"
      }
    },
    {
      "cell_type": "markdown",
      "source": [
        "7. Step 1: Create directory /tmp/bg as root user and create files inside it.\n",
        "-\n",
        "```\n",
        "mdkir /tmp/bg\n",
        "```\n",
        "```\n",
        "cd tmp\n",
        "```\n",
        "```\n",
        "cd bg\n",
        "```\n",
        "```\n",
        "touch file1.txt\n",
        "```\n",
        "```\n",
        "touch file 2.txt\n",
        "```\n",
        "\n",
        "\n",
        "\n",
        "\n",
        "Step 2: \"abhi\" should be the owner of the directory. He should be able to create files and delete files inside the directory and also he should be able to do add content to all files inside the directory.\n",
        "-\n",
        "\n",
        "```\n",
        "sudo chown abhi /tmp/bg\n",
        "```\n",
        "```\n",
        "sudo chown abhi file1.txt\n",
        "```\n",
        "```\n",
        "sudo chown abhi file2.txt\n",
        "```\n",
        "\n",
        "\n",
        "\n",
        "\n"
      ],
      "metadata": {
        "id": "PLalU7WIX-Ml"
      }
    },
    {
      "cell_type": "markdown",
      "source": [
        "8. You suspect that a particular process is consuming excessive CPU resources on your Linux server. How would you identify and terminate this process?\n",
        "-\n",
        "\n",
        "```\n",
        "htop\n",
        "```\n",
        "This command shows live list of processes in human readable format. If we look at the %CPU column we can note the process consuming excessive CPU resources.\n",
        "Then we can copy the process ID(PID) of that process and paste in the following command.\n",
        "\n",
        "```\n",
        "sudo kill <PID>\n",
        "```\n",
        "this terminates the process.\n",
        "\n"
      ],
      "metadata": {
        "id": "heGFz3lGeyIU"
      }
    }
  ]
}